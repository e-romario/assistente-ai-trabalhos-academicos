{
  "nbformat": 4,
  "nbformat_minor": 0,
  "metadata": {
    "colab": {
      "provenance": [],
      "authorship_tag": "ABX9TyMp6c+s0J2Zne8ibUHcqTCj",
      "include_colab_link": true
    },
    "kernelspec": {
      "name": "python3",
      "display_name": "Python 3"
    },
    "language_info": {
      "name": "python"
    }
  },
  "cells": [
    {
      "cell_type": "markdown",
      "metadata": {
        "id": "view-in-github",
        "colab_type": "text"
      },
      "source": [
        "<a href=\"https://colab.research.google.com/github/e-romario/assistente-ai-trabalhos-academicos/blob/main/Assistente_de_Pesquisa_Acad%C3%AAmica_com_IA_Gemini.ipynb\" target=\"_parent\"><img src=\"https://colab.research.google.com/assets/colab-badge.svg\" alt=\"Open In Colab\"/></a>"
      ]
    },
    {
      "cell_type": "code",
      "source": [
        "# --- Configurações Iniciais e Instalação de Bibliotecas ---\n",
        "%pip -q install google-genai\n",
        "%pip -q install pillow\n",
        "%pip -q install requests"
      ],
      "metadata": {
        "id": "EJ59X7the9Ck"
      },
      "execution_count": 101,
      "outputs": []
    },
    {
      "cell_type": "code",
      "source": [
        "# Configura a API Key do Google Gemini\n",
        "\n",
        "import os\n",
        "from google.colab import userdata\n",
        "\n",
        "os.environ[\"GOOGLE_API_KEY\"] = userdata.get('GOOGLE_API_KEY')"
      ],
      "metadata": {
        "id": "qZSlQ3pjfi4T"
      },
      "execution_count": 102,
      "outputs": []
    },
    {
      "cell_type": "code",
      "source": [
        "# Configura o cliente da SDK do Gemini\n",
        "\n",
        "from google import genai\n",
        "\n",
        "client = genai.Client()\n",
        "\n",
        "# Essas variáveis ​​devem ser definidas antes das funções que as utilizam como argumentos padrão\n",
        "MODEL_ID = \"gemini-2.0-flash\"\n",
        "MODEL_PRO = \"gemini-2.0-flash\" # Usar o PRO para agentes que exigem mais capacidade"
      ],
      "metadata": {
        "id": "RMVfS9xlfp5U"
      },
      "execution_count": 103,
      "outputs": []
    },
    {
      "cell_type": "code",
      "source": [
        "# Pergunta ao Gemini uma informação mais recente que seu conhecimento\n",
        "\n",
        "from IPython.display import HTML, Markdown\n",
        "\n",
        "# Perguntar pro modelo quando é a próxima imersão de IA ###############################################\n",
        "resposta = client.models.generate_content(\n",
        "    model=MODEL_ID,\n",
        "    contents='Qual é a data de hoje?',\n",
        ")\n",
        "\n",
        "# Exibe a resposta na tela\n",
        "display(Markdown(f\"Resposta:\\n {resposta.text}\"))"
      ],
      "metadata": {
        "colab": {
          "base_uri": "https://localhost:8080/",
          "height": 46
        },
        "id": "c9r9wDuthUyu",
        "outputId": "5b271c0f-756d-4be2-bbfb-a948fbb8f9db"
      },
      "execution_count": 104,
      "outputs": [
        {
          "output_type": "display_data",
          "data": {
            "text/plain": [
              "<IPython.core.display.Markdown object>"
            ],
            "text/markdown": "Resposta:\n Hoje é quinta-feira, 2 de maio de 2024.\n"
          },
          "metadata": {}
        }
      ]
    },
    {
      "cell_type": "code",
      "source": [
        "# Pergunta ao Gemini uma informação utilizando a busca do Google como contexto\n",
        "\n",
        "response = client.models.generate_content(\n",
        "    model=MODEL_ID,\n",
        "    contents='Qual é a data de hoje?',\n",
        "    config={\"tools\": [{\"google_search\": {}}]}\n",
        ")\n",
        "\n",
        "# Exibe a resposta na tela\n",
        "display(Markdown(f\"Resposta:\\n {response.text}\"))"
      ],
      "metadata": {
        "colab": {
          "base_uri": "https://localhost:8080/",
          "height": 46
        },
        "id": "h4DIafuiht7v",
        "outputId": "17d76b02-b370-4e4f-f7d5-be9d0c6b74a7"
      },
      "execution_count": 105,
      "outputs": [
        {
          "output_type": "display_data",
          "data": {
            "text/plain": [
              "<IPython.core.display.Markdown object>"
            ],
            "text/markdown": "Resposta:\n A data de hoje é 17 de maio de 2025."
          },
          "metadata": {}
        }
      ]
    },
    {
      "cell_type": "code",
      "source": [
        "# Exibe a busca\n",
        "print(f\"Busca realizada: {response.candidates[0].grounding_metadata.web_search_queries}\")\n",
        "# Exibe as URLs nas quais ele se baseou\n",
        "print(f\"Páginas utilizadas na resposta: {', '.join([site.web.title for site in response.candidates[0].grounding_metadata.grounding_chunks])}\")\n",
        "print()\n",
        "display(HTML(response.candidates[0].grounding_metadata.search_entry_point.rendered_content))"
      ],
      "metadata": {
        "colab": {
          "base_uri": "https://localhost:8080/",
          "height": 117
        },
        "id": "dO5dV06tiH__",
        "outputId": "2488df18-61d7-4bf7-ac9b-d38fcf3bb16b"
      },
      "execution_count": 106,
      "outputs": [
        {
          "output_type": "stream",
          "name": "stdout",
          "text": [
            "Busca realizada: ['data de hoje']\n",
            "Páginas utilizadas na resposta: wincalendar.com, wikidates.org, wikidates.org\n",
            "\n"
          ]
        },
        {
          "output_type": "display_data",
          "data": {
            "text/plain": [
              "<IPython.core.display.HTML object>"
            ],
            "text/html": [
              "<style>\n",
              ".container {\n",
              "  align-items: center;\n",
              "  border-radius: 8px;\n",
              "  display: flex;\n",
              "  font-family: Google Sans, Roboto, sans-serif;\n",
              "  font-size: 14px;\n",
              "  line-height: 20px;\n",
              "  padding: 8px 12px;\n",
              "}\n",
              ".chip {\n",
              "  display: inline-block;\n",
              "  border: solid 1px;\n",
              "  border-radius: 16px;\n",
              "  min-width: 14px;\n",
              "  padding: 5px 16px;\n",
              "  text-align: center;\n",
              "  user-select: none;\n",
              "  margin: 0 8px;\n",
              "  -webkit-tap-highlight-color: transparent;\n",
              "}\n",
              ".carousel {\n",
              "  overflow: auto;\n",
              "  scrollbar-width: none;\n",
              "  white-space: nowrap;\n",
              "  margin-right: -12px;\n",
              "}\n",
              ".headline {\n",
              "  display: flex;\n",
              "  margin-right: 4px;\n",
              "}\n",
              ".gradient-container {\n",
              "  position: relative;\n",
              "}\n",
              ".gradient {\n",
              "  position: absolute;\n",
              "  transform: translate(3px, -9px);\n",
              "  height: 36px;\n",
              "  width: 9px;\n",
              "}\n",
              "@media (prefers-color-scheme: light) {\n",
              "  .container {\n",
              "    background-color: #fafafa;\n",
              "    box-shadow: 0 0 0 1px #0000000f;\n",
              "  }\n",
              "  .headline-label {\n",
              "    color: #1f1f1f;\n",
              "  }\n",
              "  .chip {\n",
              "    background-color: #ffffff;\n",
              "    border-color: #d2d2d2;\n",
              "    color: #5e5e5e;\n",
              "    text-decoration: none;\n",
              "  }\n",
              "  .chip:hover {\n",
              "    background-color: #f2f2f2;\n",
              "  }\n",
              "  .chip:focus {\n",
              "    background-color: #f2f2f2;\n",
              "  }\n",
              "  .chip:active {\n",
              "    background-color: #d8d8d8;\n",
              "    border-color: #b6b6b6;\n",
              "  }\n",
              "  .logo-dark {\n",
              "    display: none;\n",
              "  }\n",
              "  .gradient {\n",
              "    background: linear-gradient(90deg, #fafafa 15%, #fafafa00 100%);\n",
              "  }\n",
              "}\n",
              "@media (prefers-color-scheme: dark) {\n",
              "  .container {\n",
              "    background-color: #1f1f1f;\n",
              "    box-shadow: 0 0 0 1px #ffffff26;\n",
              "  }\n",
              "  .headline-label {\n",
              "    color: #fff;\n",
              "  }\n",
              "  .chip {\n",
              "    background-color: #2c2c2c;\n",
              "    border-color: #3c4043;\n",
              "    color: #fff;\n",
              "    text-decoration: none;\n",
              "  }\n",
              "  .chip:hover {\n",
              "    background-color: #353536;\n",
              "  }\n",
              "  .chip:focus {\n",
              "    background-color: #353536;\n",
              "  }\n",
              "  .chip:active {\n",
              "    background-color: #464849;\n",
              "    border-color: #53575b;\n",
              "  }\n",
              "  .logo-light {\n",
              "    display: none;\n",
              "  }\n",
              "  .gradient {\n",
              "    background: linear-gradient(90deg, #1f1f1f 15%, #1f1f1f00 100%);\n",
              "  }\n",
              "}\n",
              "</style>\n",
              "<div class=\"container\">\n",
              "  <div class=\"headline\">\n",
              "    <svg class=\"logo-light\" width=\"18\" height=\"18\" viewBox=\"9 9 35 35\" fill=\"none\" xmlns=\"http://www.w3.org/2000/svg\">\n",
              "      <path fill-rule=\"evenodd\" clip-rule=\"evenodd\" d=\"M42.8622 27.0064C42.8622 25.7839 42.7525 24.6084 42.5487 23.4799H26.3109V30.1568H35.5897C35.1821 32.3041 33.9596 34.1222 32.1258 35.3448V39.6864H37.7213C40.9814 36.677 42.8622 32.2571 42.8622 27.0064V27.0064Z\" fill=\"#4285F4\"/>\n",
              "      <path fill-rule=\"evenodd\" clip-rule=\"evenodd\" d=\"M26.3109 43.8555C30.9659 43.8555 34.8687 42.3195 37.7213 39.6863L32.1258 35.3447C30.5898 36.3792 28.6306 37.0061 26.3109 37.0061C21.8282 37.0061 18.0195 33.9811 16.6559 29.906H10.9194V34.3573C13.7563 39.9841 19.5712 43.8555 26.3109 43.8555V43.8555Z\" fill=\"#34A853\"/>\n",
              "      <path fill-rule=\"evenodd\" clip-rule=\"evenodd\" d=\"M16.6559 29.8904C16.3111 28.8559 16.1074 27.7588 16.1074 26.6146C16.1074 25.4704 16.3111 24.3733 16.6559 23.3388V18.8875H10.9194C9.74388 21.2072 9.06992 23.8247 9.06992 26.6146C9.06992 29.4045 9.74388 32.022 10.9194 34.3417L15.3864 30.8621L16.6559 29.8904V29.8904Z\" fill=\"#FBBC05\"/>\n",
              "      <path fill-rule=\"evenodd\" clip-rule=\"evenodd\" d=\"M26.3109 16.2386C28.85 16.2386 31.107 17.1164 32.9095 18.8091L37.8466 13.8719C34.853 11.082 30.9659 9.3736 26.3109 9.3736C19.5712 9.3736 13.7563 13.245 10.9194 18.8875L16.6559 23.3388C18.0195 19.2636 21.8282 16.2386 26.3109 16.2386V16.2386Z\" fill=\"#EA4335\"/>\n",
              "    </svg>\n",
              "    <svg class=\"logo-dark\" width=\"18\" height=\"18\" viewBox=\"0 0 48 48\" xmlns=\"http://www.w3.org/2000/svg\">\n",
              "      <circle cx=\"24\" cy=\"23\" fill=\"#FFF\" r=\"22\"/>\n",
              "      <path d=\"M33.76 34.26c2.75-2.56 4.49-6.37 4.49-11.26 0-.89-.08-1.84-.29-3H24.01v5.99h8.03c-.4 2.02-1.5 3.56-3.07 4.56v.75l3.91 2.97h.88z\" fill=\"#4285F4\"/>\n",
              "      <path d=\"M15.58 25.77A8.845 8.845 0 0 0 24 31.86c1.92 0 3.62-.46 4.97-1.31l4.79 3.71C31.14 36.7 27.65 38 24 38c-5.93 0-11.01-3.4-13.45-8.36l.17-1.01 4.06-2.85h.8z\" fill=\"#34A853\"/>\n",
              "      <path d=\"M15.59 20.21a8.864 8.864 0 0 0 0 5.58l-5.03 3.86c-.98-2-1.53-4.25-1.53-6.64 0-2.39.55-4.64 1.53-6.64l1-.22 3.81 2.98.22 1.08z\" fill=\"#FBBC05\"/>\n",
              "      <path d=\"M24 14.14c2.11 0 4.02.75 5.52 1.98l4.36-4.36C31.22 9.43 27.81 8 24 8c-5.93 0-11.01 3.4-13.45 8.36l5.03 3.85A8.86 8.86 0 0 1 24 14.14z\" fill=\"#EA4335\"/>\n",
              "    </svg>\n",
              "    <div class=\"gradient-container\"><div class=\"gradient\"></div></div>\n",
              "  </div>\n",
              "  <div class=\"carousel\">\n",
              "    <a class=\"chip\" href=\"https://vertexaisearch.cloud.google.com/grounding-api-redirect/AbF9wXGMkknqhbItZtstuidOvMta8OTRK-FZE0W1DucczZI2vZMdwqPDW20XsOp3aa3D3rcEEDM0EHxg5U4JwgWCt9eaEra404D_jOkZewD8ZAIZKYEpOGb2CD0fvpBwzZkWR2_gomLQWV1tF1eB7uMGZSCuyG2SnQbyK3bBlklUzANQiwBaA_e_6GOUsOzYMRqE\">data de hoje</a>\n",
              "  </div>\n",
              "</div>\n"
            ]
          },
          "metadata": {}
        }
      ]
    },
    {
      "cell_type": "code",
      "source": [
        "# Instalar Framework de agentes do Google ################################################\n",
        "%pip -q install google-genai google-adk"
      ],
      "metadata": {
        "id": "YrBBztE3iNzJ"
      },
      "execution_count": 107,
      "outputs": []
    },
    {
      "cell_type": "code",
      "execution_count": 108,
      "metadata": {
        "id": "ALDW97xyeuZ_"
      },
      "outputs": [],
      "source": [
        "# Principais importações\n",
        "from google.adk.agents import Agent\n",
        "from google.adk.runners import Runner\n",
        "from google.adk.sessions import InMemorySessionService\n",
        "from google.adk.tools import google_search\n",
        "from google.genai import types\n",
        "\n",
        "from datetime import date\n",
        "import textwrap\n",
        "from IPython.display import display, Markdown\n",
        "import warnings\n",
        "warnings.filterwarnings(\"ignore\")\n",
        "from docx import Document\n",
        "from io import BytesIO\n",
        "from google.colab import files"
      ]
    },
    {
      "cell_type": "code",
      "source": [
        "# Função auxiliar para enviar uma mensagem para um agente via Runner\n",
        "def call_agent(agent: Agent, message_text: str) -> str:\n",
        "    session_service = InMemorySessionService()\n",
        "    session = session_service.create_session(app_name=agent.name, user_id=\"user1\", session_id=\"session1\")\n",
        "    runner = Runner(agent=agent, app_name=agent.name, session_service=session_service)\n",
        "    content = types.Content(role=\"user\", parts=[types.Part(text=message_text)])\n",
        "    final_response = \"\"\n",
        "    for event in runner.run(user_id=\"user1\", session_id=\"session1\", new_message=content):\n",
        "        if event.is_final_response():\n",
        "            for part in event.content.parts:\n",
        "                if part.text is not None:\n",
        "                    final_response += part.text\n",
        "            final_response += \"\\n\"\n",
        "    return final_response"
      ],
      "metadata": {
        "id": "8eZsWKEnG1DA"
      },
      "execution_count": 109,
      "outputs": []
    },
    {
      "cell_type": "code",
      "source": [
        "# Função auxiliar para exibir texto formatado em Markdown\n",
        "def to_markdown(text):\n",
        "    text = text.replace('•', ' *')\n",
        "    return Markdown(textwrap.indent(text, '> ', predicate=lambda _: True))"
      ],
      "metadata": {
        "id": "8G4Nt1qxHivy"
      },
      "execution_count": 110,
      "outputs": []
    },
    {
      "cell_type": "code",
      "source": [
        "##################################################\n",
        "# --- Agente 1: Busca Bibliográfica ---\n",
        "##################################################\n",
        "def agente_busca_bibliografica(topico):\n",
        "    buscador = Agent(\n",
        "        name=\"agente_busca_bibliografica\",\n",
        "        model=MODEL_ID,\n",
        "        instruction=\"\"\"\n",
        "        Você é um assistente de pesquisa bibliográfica. Sua tarefa é usar a ferramenta de busca do Google (google_search)\n",
        "        para encontrar artigos científicos relevantes sobre o tópico fornecido. Foque em identificar os títulos e os links\n",
        "        dos artigos mais relevantes. Tente encontrar até 5 artigos e retorne o título e o link de cada um. Siga estritamente o formato:\n",
        "        Título: [Título do Artigo]\n",
        "        Link: [Link do Artigo]\n",
        "\n",
        "        Não adicione texto extra antes ou depois de cada par Título/Link.\n",
        "        \"\"\",\n",
        "        description=\"Agente que busca artigos científicos e seus links no Google\",\n",
        "        tools=[google_search]\n",
        "    )\n",
        "    entrada_busca = f\"Tópico de pesquisa: {topico}\"\n",
        "    resultados = call_agent(buscador, entrada_busca)\n",
        "\n",
        "    # Parse the results string to extract titles and links\n",
        "    links_encontrados = []\n",
        "    lines = resultados.strip().split('\\n')\n",
        "    titulo = None\n",
        "    link = None\n",
        "    for line in lines:\n",
        "        line = line.strip()\n",
        "        if line.startswith(\"Título:\"):\n",
        "            titulo = line.replace(\"Título:\", \"\").strip()\n",
        "        elif line.startswith(\"Link:\") or line.startswith(\"URL:\"):\n",
        "            link = line.replace(\"Link:\", \"\").replace(\"URL:\", \"\").strip()\n",
        "            if titulo and link:\n",
        "                links_encontrados.append((titulo, link))\n",
        "                titulo = None  # Reset for the next article\n",
        "                link = None    # Reset for the next article\n",
        "\n",
        "    return resultados, links_encontrados"
      ],
      "metadata": {
        "id": "Apjo52CEHpQL"
      },
      "execution_count": 111,
      "outputs": []
    },
    {
      "cell_type": "code",
      "source": [
        "##################################################\n",
        "# --- Agente 2: Análise de Artigos ---\n",
        "##################################################\n",
        "def agente_analise_artigos(topico, resultados_busca):\n",
        "    analisador = Agent(\n",
        "        name=\"agente_analise_artigos\",\n",
        "        model=MODEL_PRO,\n",
        "        instruction=f\"\"\"\n",
        "        Você é um analista de artigos científicos. Dada a lista de artigos encontrados sobre o tópico \"{topico}\",\n",
        "        sua tarefa é tentar extrair as informações chave de cada um. Se possível, identifique o objetivo, a metodologia,\n",
        "        os principais resultados e as conclusões de cada artigo listado. Use a busca do Google se precisar de mais detalhes\n",
        "        sobre algum artigo específico.\n",
        "\n",
        "        Lista de artigos:\n",
        "        {resultados_busca}\n",
        "        \"\"\",\n",
        "        description=\"Agente que analisa artigos científicos e extrai informações chave\",\n",
        "        tools=[google_search]\n",
        "    )\n",
        "    entrada_analise = f\"Tópico: {topico}\\nResultados da busca: {resultados_busca}\"\n",
        "    analise = call_agent(analisador, entrada_analise)\n",
        "    return analise"
      ],
      "metadata": {
        "id": "QEFa0i6UHwKf"
      },
      "execution_count": 112,
      "outputs": []
    },
    {
      "cell_type": "code",
      "source": [
        "##################################################\n",
        "# --- Agente 3: Síntese de Literatura ---\n",
        "##################################################\n",
        "def agente_sintese_literatura(topico, analise_artigos):\n",
        "    sintetizador = Agent(\n",
        "        name=\"agente_sintese_literatura\",\n",
        "        model=MODEL_PRO,\n",
        "        instruction=f\"\"\"\n",
        "        Você é um sintetizador de literatura acadêmica. Com base na análise dos artigos sobre o tópico \"{topico}\",\n",
        "        sua tarefa é agrupar e resumir as principais descobertas, identificar temas comuns, divergências e possíveis\n",
        "        lacunas na pesquisa. Crie um resumo conciso da literatura relevante.\n",
        "        \"\"\",\n",
        "        description=\"Agente que sintetiza a literatura acadêmica\",\n",
        "    )\n",
        "    entrada_sintese = f\"Tópico: {topico}\\nAnálise dos artigos: {analise_artigos}\"\n",
        "    sintese = call_agent(sintetizador, entrada_sintese)\n",
        "    return sintese"
      ],
      "metadata": {
        "id": "jbvAuj0rH2JH"
      },
      "execution_count": 113,
      "outputs": []
    },
    {
      "cell_type": "code",
      "source": [
        "##################################################\n",
        "# --- Agente 4: Agente de Formatação ---\n",
        "##################################################\n",
        "def agente_formatacao(sintese_literatura, formato_usuario=None, arquivo_modelo=None):\n",
        "    formatador = Agent(\n",
        "        name=\"agente_formatacao\",\n",
        "        model=MODEL_PRO,\n",
        "        instruction=\"\"\"\n",
        "        Você é um especialista em formatação de documentos acadêmicos. Sua tarefa é formatar o texto fornecido\n",
        "        de acordo com as instruções do usuário ou usando um modelo fornecido. Se nenhum formato ou modelo for especificado,\n",
        "        organize as informações de forma lógica e coerente.\n",
        "        \"\"\",\n",
        "        description=\"Agente que formata documentos acadêmicos\",\n",
        "    )\n",
        "    entrada_formatacao = f\"Síntese da literatura:\\n{sintese_literatura}\\n\\nFormato desejado: {formato_usuario}\\nArquivo modelo (se fornecido): {arquivo_modelo is not None}\"\n",
        "    texto_formatado = call_agent(formatador, entrada_formatacao)\n",
        "    return texto_formatado"
      ],
      "metadata": {
        "id": "yxinwh5gH6ID"
      },
      "execution_count": 114,
      "outputs": []
    },
    {
      "cell_type": "code",
      "source": [
        "##################################################\n",
        "# --- Agente 5: Agente de Saída para o Usuário ---\n",
        "##################################################\n",
        "def agente_saida_usuario(texto_formatado, links_bibliograficos):\n",
        "    print(\"\\n--- 📝 Resultado do Agente de Saída (Visualização) ---\\n\")\n",
        "    display(Markdown(\"> Este é um resumo estruturado da Pesquisa:\\n\"))\n",
        "    display(Markdown(textwrap.indent(texto_formatado, '> ')))\n",
        "\n",
        "    if links_bibliograficos:\n",
        "        print(\"\\n--- 🔗 Links de Pesquisa/Referências Bibliográficas ---\\n\")\n",
        "        for titulo, link in links_bibliograficos:\n",
        "            display(Markdown(f\"* **{titulo}:** {link}\"))\n",
        "\n",
        "    return \"Visualização do arquivo e links exibidos.\""
      ],
      "metadata": {
        "id": "wFF1-pWkH9X9"
      },
      "execution_count": 115,
      "outputs": []
    },
    {
      "cell_type": "code",
      "source": [
        "##################################################\n",
        "# --- Fluxo Principal ---\n",
        "##################################################\n",
        "if __name__ == \"__main__\":\n",
        "    print(\"📚 Iniciando o Assistente de Pesquisa Acadêmica 📚\")\n",
        "    topico_pesquisa = input(\"❓ Por favor, digite o TÓPICO da sua pesquisa: \")\n",
        "\n",
        "    if not topico_pesquisa:\n",
        "        print(\"Você esqueceu de digitar o tópico da pesquisa!\")\n",
        "    else:\n",
        "        print(f\"\\n🔍 Buscando artigos sobre '{topico_pesquisa}'...\")\n",
        "        resultados_busca, links_encontrados = agente_busca_bibliografica(topico_pesquisa)\n",
        "        print(\"\\n--- 📝 Resultado do Agente de Busca Bibliográfica ---\\n\")\n",
        "        display(to_markdown(resultados_busca))\n",
        "        print(\"--------------------------------------------------------------\")\n",
        "\n",
        "        print(f\"\\n🧐 Analisando os artigos sobre '{topico_pesquisa}'...\")\n",
        "        analise_artigos = agente_analise_artigos(topico_pesquisa, resultados_busca)\n",
        "        print(\"\\n--- 📝 Resultado do Agente de Análise de Artigos ---\\n\")\n",
        "        display(to_markdown(analise_artigos))\n",
        "        print(\"--------------------------------------------------------------\")\n",
        "\n",
        "        print(f\"\\n✍️ Sintetizando a literatura sobre '{topico_pesquisa}'...\")\n",
        "        sintese_literatura = agente_sintese_literatura(topico_pesquisa, analise_artigos)\n",
        "        print(\"\\n--- 📝 Resultado do Agente de Síntese de Literatura ---\\n\")\n",
        "        display(to_markdown(sintese_literatura))\n",
        "        print(\"--------------------------------------------------------------\")\n",
        "\n",
        "        formato_desejado = input(\"\\n❓ Deseja especificar um formato (exemplo: monografia, artigo, entrevista, etc)? Se sim, digite-o. Deixe em branco para formatação padrão: \")\n",
        "\n",
        "        print(\"\\n🎨 Formatando a síntese...\")\n",
        "        texto_formatado = agente_formatacao(sintese_literatura, formato_usuario=formato_desejado)\n",
        "        print(\"\\n--- 📝 Resultado do Agente de Formatação ---\\n\")\n",
        "        display(to_markdown(texto_formatado))\n",
        "        print(\"--------------------------------------------------------------\")\n",
        "\n",
        "        agente_saida_usuario(texto_formatado, links_encontrados)\n",
        "\n",
        "print(\"\\n✨ Processo concluído!\")"
      ],
      "metadata": {
        "colab": {
          "base_uri": "https://localhost:8080/",
          "height": 373
        },
        "id": "WG20ZWyrIBNV",
        "outputId": "1a9d50d2-693a-4b78-fc01-bdbd7bc2db92"
      },
      "execution_count": 116,
      "outputs": [
        {
          "output_type": "stream",
          "name": "stdout",
          "text": [
            "📚 Iniciando o Assistente de Pesquisa Acadêmica 📚\n"
          ]
        },
        {
          "output_type": "error",
          "ename": "KeyboardInterrupt",
          "evalue": "Interrupted by user",
          "traceback": [
            "\u001b[0;31m---------------------------------------------------------------------------\u001b[0m",
            "\u001b[0;31mKeyboardInterrupt\u001b[0m                         Traceback (most recent call last)",
            "\u001b[0;32m<ipython-input-116-e371ef563c5e>\u001b[0m in \u001b[0;36m<cell line: 0>\u001b[0;34m()\u001b[0m\n\u001b[1;32m      4\u001b[0m \u001b[0;32mif\u001b[0m \u001b[0m__name__\u001b[0m \u001b[0;34m==\u001b[0m \u001b[0;34m\"__main__\"\u001b[0m\u001b[0;34m:\u001b[0m\u001b[0;34m\u001b[0m\u001b[0;34m\u001b[0m\u001b[0m\n\u001b[1;32m      5\u001b[0m     \u001b[0mprint\u001b[0m\u001b[0;34m(\u001b[0m\u001b[0;34m\"📚 Iniciando o Assistente de Pesquisa Acadêmica 📚\"\u001b[0m\u001b[0;34m)\u001b[0m\u001b[0;34m\u001b[0m\u001b[0;34m\u001b[0m\u001b[0m\n\u001b[0;32m----> 6\u001b[0;31m     \u001b[0mtopico_pesquisa\u001b[0m \u001b[0;34m=\u001b[0m \u001b[0minput\u001b[0m\u001b[0;34m(\u001b[0m\u001b[0;34m\"❓ Por favor, digite o TÓPICO da sua pesquisa: \"\u001b[0m\u001b[0;34m)\u001b[0m\u001b[0;34m\u001b[0m\u001b[0;34m\u001b[0m\u001b[0m\n\u001b[0m\u001b[1;32m      7\u001b[0m \u001b[0;34m\u001b[0m\u001b[0m\n\u001b[1;32m      8\u001b[0m     \u001b[0;32mif\u001b[0m \u001b[0;32mnot\u001b[0m \u001b[0mtopico_pesquisa\u001b[0m\u001b[0;34m:\u001b[0m\u001b[0;34m\u001b[0m\u001b[0;34m\u001b[0m\u001b[0m\n",
            "\u001b[0;32m/usr/local/lib/python3.11/dist-packages/ipykernel/kernelbase.py\u001b[0m in \u001b[0;36mraw_input\u001b[0;34m(self, prompt)\u001b[0m\n\u001b[1;32m   1175\u001b[0m                 \u001b[0;34m\"raw_input was called, but this frontend does not support input requests.\"\u001b[0m\u001b[0;34m\u001b[0m\u001b[0;34m\u001b[0m\u001b[0m\n\u001b[1;32m   1176\u001b[0m             )\n\u001b[0;32m-> 1177\u001b[0;31m         return self._input_request(\n\u001b[0m\u001b[1;32m   1178\u001b[0m             \u001b[0mstr\u001b[0m\u001b[0;34m(\u001b[0m\u001b[0mprompt\u001b[0m\u001b[0;34m)\u001b[0m\u001b[0;34m,\u001b[0m\u001b[0;34m\u001b[0m\u001b[0;34m\u001b[0m\u001b[0m\n\u001b[1;32m   1179\u001b[0m             \u001b[0mself\u001b[0m\u001b[0;34m.\u001b[0m\u001b[0m_parent_ident\u001b[0m\u001b[0;34m[\u001b[0m\u001b[0;34m\"shell\"\u001b[0m\u001b[0;34m]\u001b[0m\u001b[0;34m,\u001b[0m\u001b[0;34m\u001b[0m\u001b[0;34m\u001b[0m\u001b[0m\n",
            "\u001b[0;32m/usr/local/lib/python3.11/dist-packages/ipykernel/kernelbase.py\u001b[0m in \u001b[0;36m_input_request\u001b[0;34m(self, prompt, ident, parent, password)\u001b[0m\n\u001b[1;32m   1217\u001b[0m             \u001b[0;32mexcept\u001b[0m \u001b[0mKeyboardInterrupt\u001b[0m\u001b[0;34m:\u001b[0m\u001b[0;34m\u001b[0m\u001b[0;34m\u001b[0m\u001b[0m\n\u001b[1;32m   1218\u001b[0m                 \u001b[0;31m# re-raise KeyboardInterrupt, to truncate traceback\u001b[0m\u001b[0;34m\u001b[0m\u001b[0;34m\u001b[0m\u001b[0m\n\u001b[0;32m-> 1219\u001b[0;31m                 \u001b[0;32mraise\u001b[0m \u001b[0mKeyboardInterrupt\u001b[0m\u001b[0;34m(\u001b[0m\u001b[0;34m\"Interrupted by user\"\u001b[0m\u001b[0;34m)\u001b[0m \u001b[0;32mfrom\u001b[0m \u001b[0;32mNone\u001b[0m\u001b[0;34m\u001b[0m\u001b[0;34m\u001b[0m\u001b[0m\n\u001b[0m\u001b[1;32m   1220\u001b[0m             \u001b[0;32mexcept\u001b[0m \u001b[0mException\u001b[0m\u001b[0;34m:\u001b[0m\u001b[0;34m\u001b[0m\u001b[0;34m\u001b[0m\u001b[0m\n\u001b[1;32m   1221\u001b[0m                 \u001b[0mself\u001b[0m\u001b[0;34m.\u001b[0m\u001b[0mlog\u001b[0m\u001b[0;34m.\u001b[0m\u001b[0mwarning\u001b[0m\u001b[0;34m(\u001b[0m\u001b[0;34m\"Invalid Message:\"\u001b[0m\u001b[0;34m,\u001b[0m \u001b[0mexc_info\u001b[0m\u001b[0;34m=\u001b[0m\u001b[0;32mTrue\u001b[0m\u001b[0;34m)\u001b[0m\u001b[0;34m\u001b[0m\u001b[0;34m\u001b[0m\u001b[0m\n",
            "\u001b[0;31mKeyboardInterrupt\u001b[0m: Interrupted by user"
          ]
        }
      ]
    }
  ]
}